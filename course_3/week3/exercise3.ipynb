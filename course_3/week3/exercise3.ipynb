{
  "nbformat": 4,
  "nbformat_minor": 0,
  "metadata": {
    "accelerator": "GPU",
    "colab": {
      "name": "NLP Course - Week 3 Exercise Question.ipynb",
      "provenance": [],
      "toc_visible": true
    },
    "kernelspec": {
      "display_name": "Python 3",
      "name": "python3"
    }
  },
  "cells": [
    {
      "cell_type": "code",
      "metadata": {
        "id": "zX4Kg8DUTKWO",
        "colab_type": "code",
        "colab": {}
      },
      "source": [
        "#@title Licensed under the Apache License, Version 2.0 (the \"License\");\n",
        "# you may not use this file except in compliance with the License.\n",
        "# You may obtain a copy of the License at\n",
        "#\n",
        "# https://www.apache.org/licenses/LICENSE-2.0\n",
        "#\n",
        "# Unless required by applicable law or agreed to in writing, software\n",
        "# distributed under the License is distributed on an \"AS IS\" BASIS,\n",
        "# WITHOUT WARRANTIES OR CONDITIONS OF ANY KIND, either express or implied.\n",
        "# See the License for the specific language governing permissions and\n",
        "# limitations under the License."
      ],
      "execution_count": 1,
      "outputs": []
    },
    {
      "cell_type": "code",
      "metadata": {
        "colab_type": "code",
        "id": "hmA6EzkQJ5jt",
        "colab": {}
      },
      "source": [
        "import json\n",
        "import tensorflow as tf\n",
        "import csv\n",
        "import random\n",
        "import numpy as np\n",
        "\n",
        "from tensorflow.keras.preprocessing.text import Tokenizer\n",
        "from tensorflow.keras.preprocessing.sequence import pad_sequences\n",
        "from tensorflow.keras.utils import to_categorical\n",
        "from tensorflow.keras import regularizers\n",
        "\n",
        "\n",
        "embedding_dim = 100\n",
        "max_length = 16\n",
        "trunc_type='post'\n",
        "padding_type='post'\n",
        "oov_tok = \"<OOV>\"\n",
        "# Your dataset size here. Experiment using smaller values (i.e. 16000), but don't forget to train on at least 160000 to see the best effects\n",
        "training_size = 160000\n",
        "test_portion=.1\n",
        "\n",
        "corpus = []\n"
      ],
      "execution_count": 10,
      "outputs": []
    },
    {
      "cell_type": "code",
      "metadata": {
        "colab_type": "code",
        "id": "bM0l_dORKqE0",
        "colab": {
          "base_uri": "https://localhost:8080/",
          "height": 204
        },
        "outputId": "be1cf3f4-8ae6-4d46-9f9e-4d1239389bf7"
      },
      "source": [
        "# Note that I cleaned the Stanford dataset to remove LATIN1 encoding to make it easier for Python CSV reader\n",
        "# You can do that yourself with:\n",
        "# iconv -f LATIN1 -t UTF8 training.1600000.processed.noemoticon.csv -o training_cleaned.csv\n",
        "# I then hosted it on my site to make it easier to use in this notebook\n",
        "\n",
        "!wget --no-check-certificate \\\n",
        "    https://storage.googleapis.com/laurencemoroney-blog.appspot.com/training_cleaned.csv \\\n",
        "    -O /tmp/training_cleaned.csv\n",
        "\n",
        "num_sentences = 0\n",
        "\n",
        "with open(\"/tmp/training_cleaned.csv\") as csvfile:\n",
        "    reader = csv.reader(csvfile, delimiter=',')\n",
        "    for row in reader:\n",
        "      # Your Code here. Create list items where the first item is the text, found in row[5], and the second is the label. Note that the label is a '0' or a '4' in the text. When it's the former, make\n",
        "      # your label to be 0, otherwise 1. Keep a count of the number of sentences in num_sentences\n",
        "        list_item=[row[5]]\n",
        "        list_item.append(0 if row[0] == '0' else 1)\n",
        "        num_sentences = num_sentences + 1\n",
        "        corpus.append(list_item)\n"
      ],
      "execution_count": 11,
      "outputs": [
        {
          "output_type": "stream",
          "text": [
            "--2020-07-09 14:28:40--  https://storage.googleapis.com/laurencemoroney-blog.appspot.com/training_cleaned.csv\n",
            "Resolving storage.googleapis.com (storage.googleapis.com)... 108.177.119.128, 108.177.126.128, 172.217.218.128, ...\n",
            "Connecting to storage.googleapis.com (storage.googleapis.com)|108.177.119.128|:443... connected.\n",
            "HTTP request sent, awaiting response... 200 OK\n",
            "Length: 238942690 (228M) [application/octet-stream]\n",
            "Saving to: ‘/tmp/training_cleaned.csv’\n",
            "\n",
            "/tmp/training_clean 100%[===================>] 227.87M   179MB/s    in 1.3s    \n",
            "\n",
            "2020-07-09 14:28:42 (179 MB/s) - ‘/tmp/training_cleaned.csv’ saved [238942690/238942690]\n",
            "\n"
          ],
          "name": "stdout"
        }
      ]
    },
    {
      "cell_type": "code",
      "metadata": {
        "colab_type": "code",
        "id": "3kxblBUjEUX-",
        "colab": {
          "base_uri": "https://localhost:8080/",
          "height": 68
        },
        "outputId": "d16a52d5-5664-467d-ebd7-7c42fa1de432"
      },
      "source": [
        "print(num_sentences)\n",
        "print(len(corpus))\n",
        "print(corpus[1])\n",
        "\n",
        "# Expected Output:\n",
        "# 1600000\n",
        "# 1600000\n",
        "# [\"is upset that he can't update his Facebook by texting it... and might cry as a result  School today also. Blah!\", 0]"
      ],
      "execution_count": 12,
      "outputs": [
        {
          "output_type": "stream",
          "text": [
            "1600000\n",
            "1600000\n",
            "[\"is upset that he can't update his Facebook by texting it... and might cry as a result  School today also. Blah!\", 0]\n"
          ],
          "name": "stdout"
        }
      ]
    },
    {
      "cell_type": "code",
      "metadata": {
        "colab_type": "code",
        "id": "ohOGz24lsNAD",
        "colab": {}
      },
      "source": [
        "sentences=[]\n",
        "labels=[]\n",
        "random.shuffle(corpus)\n",
        "for x in range(training_size):\n",
        "    sentences.append(corpus[x][0])\n",
        "    labels.append(corpus[x][1])\n",
        "\n",
        "tokenizer = Tokenizer(oov_token=oov_tok)\n",
        "tokenizer.fit_on_texts(sentences)\n",
        "\n",
        "word_index = tokenizer.word_index\n",
        "vocab_size=len(word_index)\n",
        "\n",
        "sequences = tokenizer.texts_to_sequences(sentences)\n",
        "padded = pad_sequences(sequences, maxlen=max_length, padding=padding_type, truncating=trunc_type)\n",
        "\n",
        "split = int(test_portion * training_size)\n",
        "\n",
        "test_sequences = padded[0:split]\n",
        "training_sequences = padded[split:training_size]\n",
        "test_labels = labels[0:split]\n",
        "training_labels = labels[split:training_size]"
      ],
      "execution_count": 13,
      "outputs": []
    },
    {
      "cell_type": "code",
      "metadata": {
        "colab_type": "code",
        "id": "gIrtRem1En3N",
        "colab": {
          "base_uri": "https://localhost:8080/",
          "height": 51
        },
        "outputId": "9eff3393-40d9-4094-8265-b0c6b9caad83"
      },
      "source": [
        "print(vocab_size)\n",
        "print(word_index['i'])\n",
        "# Expected Output\n",
        "# 138858\n",
        "# 1"
      ],
      "execution_count": 14,
      "outputs": [
        {
          "output_type": "stream",
          "text": [
            "139204\n",
            "2\n"
          ],
          "name": "stdout"
        }
      ]
    },
    {
      "cell_type": "code",
      "metadata": {
        "colab_type": "code",
        "id": "C1zdgJkusRh0",
        "colab": {
          "base_uri": "https://localhost:8080/",
          "height": 204
        },
        "outputId": "32616013-8f08-4a17-f7ec-6193a2f3657a"
      },
      "source": [
        "# Note this is the 100 dimension version of GloVe from Stanford\n",
        "# I unzipped and hosted it on my site to make this notebook easier\n",
        "!wget --no-check-certificate \\\n",
        "    https://storage.googleapis.com/laurencemoroney-blog.appspot.com/glove.6B.100d.txt \\\n",
        "    -O /tmp/glove.6B.100d.txt\n",
        "embeddings_index = {};\n",
        "with open('/tmp/glove.6B.100d.txt') as f:\n",
        "    for line in f:\n",
        "        values = line.split();\n",
        "        word = values[0];\n",
        "        coefs = np.asarray(values[1:], dtype='float32');\n",
        "        embeddings_index[word] = coefs;\n",
        "\n",
        "embeddings_matrix = np.zeros((vocab_size+1, embedding_dim));\n",
        "for word, i in word_index.items():\n",
        "    embedding_vector = embeddings_index.get(word);\n",
        "    if embedding_vector is not None:\n",
        "        embeddings_matrix[i] = embedding_vector;"
      ],
      "execution_count": 15,
      "outputs": [
        {
          "output_type": "stream",
          "text": [
            "--2020-07-09 14:28:56--  https://storage.googleapis.com/laurencemoroney-blog.appspot.com/glove.6B.100d.txt\n",
            "Resolving storage.googleapis.com (storage.googleapis.com)... 108.177.119.128, 108.177.126.128, 172.217.218.128, ...\n",
            "Connecting to storage.googleapis.com (storage.googleapis.com)|108.177.119.128|:443... connected.\n",
            "HTTP request sent, awaiting response... 200 OK\n",
            "Length: 347116733 (331M) [text/plain]\n",
            "Saving to: ‘/tmp/glove.6B.100d.txt’\n",
            "\n",
            "/tmp/glove.6B.100d. 100%[===================>] 331.04M   195MB/s    in 1.7s    \n",
            "\n",
            "2020-07-09 14:28:58 (195 MB/s) - ‘/tmp/glove.6B.100d.txt’ saved [347116733/347116733]\n",
            "\n"
          ],
          "name": "stdout"
        }
      ]
    },
    {
      "cell_type": "code",
      "metadata": {
        "colab_type": "code",
        "id": "71NLk_lpFLNt",
        "colab": {
          "base_uri": "https://localhost:8080/",
          "height": 34
        },
        "outputId": "3e05b9ca-3103-4976-e22c-1df168b3424f"
      },
      "source": [
        "print(len(embeddings_matrix))\n",
        "# Expected Output\n",
        "# 138859"
      ],
      "execution_count": 17,
      "outputs": [
        {
          "output_type": "stream",
          "text": [
            "139205\n"
          ],
          "name": "stdout"
        }
      ]
    },
    {
      "cell_type": "code",
      "metadata": {
        "colab_type": "code",
        "id": "iKKvbuEBOGFz",
        "colab": {
          "base_uri": "https://localhost:8080/",
          "height": 1000
        },
        "outputId": "b34db7aa-00f6-4aca-a7d9-d2bd45884605"
      },
      "source": [
        "model = tf.keras.Sequential([\n",
        "    tf.keras.layers.Embedding(vocab_size+1, embedding_dim, input_length=max_length, weights=[embeddings_matrix], trainable=False),\n",
        "    # YOUR CODE HERE - experiment with combining different types, such as convolutions and LSTMs\n",
        "    tf.keras.layers.Dropout(0.2),\n",
        "    tf.keras.layers.Conv1D(64, 5, activation='relu'),\n",
        "    tf.keras.layers.MaxPooling1D(pool_size=4),\n",
        "    tf.keras.layers.Bidirectional(tf.keras.layers.LSTM(64)),\n",
        "    tf.keras.layers.Dense(64, 'relu'),\n",
        "    tf.keras.layers.Dense(1, 'sigmoid')\n",
        "])\n",
        "model.compile(loss='binary_crossentropy',optimizer='adam',metrics=['accuracy'])\n",
        "model.summary()\n",
        "\n",
        "training_padded = np.array(training_sequences)\n",
        "training_labels = np.array(training_labels)\n",
        "testing_padded = np.array(test_sequences)\n",
        "test_labels = np.array(test_labels)\n",
        "\n",
        "num_epochs = 50\n",
        "history = model.fit(training_padded, training_labels, epochs=num_epochs, validation_data=(testing_padded, test_labels), verbose=1)\n",
        "\n",
        "print(\"Training Complete\")\n"
      ],
      "execution_count": 23,
      "outputs": [
        {
          "output_type": "stream",
          "text": [
            "Model: \"sequential_5\"\n",
            "_________________________________________________________________\n",
            "Layer (type)                 Output Shape              Param #   \n",
            "=================================================================\n",
            "embedding_5 (Embedding)      (None, 16, 100)           13920500  \n",
            "_________________________________________________________________\n",
            "dropout_3 (Dropout)          (None, 16, 100)           0         \n",
            "_________________________________________________________________\n",
            "conv1d_2 (Conv1D)            (None, 12, 64)            32064     \n",
            "_________________________________________________________________\n",
            "max_pooling1d_2 (MaxPooling1 (None, 3, 64)             0         \n",
            "_________________________________________________________________\n",
            "bidirectional_7 (Bidirection (None, 128)               66048     \n",
            "_________________________________________________________________\n",
            "dense_10 (Dense)             (None, 64)                8256      \n",
            "_________________________________________________________________\n",
            "dense_11 (Dense)             (None, 1)                 65        \n",
            "=================================================================\n",
            "Total params: 14,026,933\n",
            "Trainable params: 106,433\n",
            "Non-trainable params: 13,920,500\n",
            "_________________________________________________________________\n",
            "Epoch 1/50\n",
            "4500/4500 [==============================] - 23s 5ms/step - loss: 0.5672 - accuracy: 0.7002 - val_loss: 0.5443 - val_accuracy: 0.7250\n",
            "Epoch 2/50\n",
            "4500/4500 [==============================] - 22s 5ms/step - loss: 0.5276 - accuracy: 0.7323 - val_loss: 0.5200 - val_accuracy: 0.7414\n",
            "Epoch 3/50\n",
            "4500/4500 [==============================] - 23s 5ms/step - loss: 0.5111 - accuracy: 0.7432 - val_loss: 0.5056 - val_accuracy: 0.7487\n",
            "Epoch 4/50\n",
            "4500/4500 [==============================] - 23s 5ms/step - loss: 0.4998 - accuracy: 0.7506 - val_loss: 0.5057 - val_accuracy: 0.7514\n",
            "Epoch 5/50\n",
            "4500/4500 [==============================] - 24s 5ms/step - loss: 0.4904 - accuracy: 0.7581 - val_loss: 0.4989 - val_accuracy: 0.7559\n",
            "Epoch 6/50\n",
            "4500/4500 [==============================] - 23s 5ms/step - loss: 0.4833 - accuracy: 0.7609 - val_loss: 0.5019 - val_accuracy: 0.7556\n",
            "Epoch 7/50\n",
            "4500/4500 [==============================] - 22s 5ms/step - loss: 0.4774 - accuracy: 0.7667 - val_loss: 0.5011 - val_accuracy: 0.7556\n",
            "Epoch 8/50\n",
            "4500/4500 [==============================] - 22s 5ms/step - loss: 0.4727 - accuracy: 0.7682 - val_loss: 0.4996 - val_accuracy: 0.7527\n",
            "Epoch 9/50\n",
            "4500/4500 [==============================] - 22s 5ms/step - loss: 0.4673 - accuracy: 0.7714 - val_loss: 0.4981 - val_accuracy: 0.7537\n",
            "Epoch 10/50\n",
            "4500/4500 [==============================] - 22s 5ms/step - loss: 0.4623 - accuracy: 0.7742 - val_loss: 0.5051 - val_accuracy: 0.7533\n",
            "Epoch 11/50\n",
            "4500/4500 [==============================] - 22s 5ms/step - loss: 0.4599 - accuracy: 0.7772 - val_loss: 0.5073 - val_accuracy: 0.7535\n",
            "Epoch 12/50\n",
            "4500/4500 [==============================] - 22s 5ms/step - loss: 0.4543 - accuracy: 0.7795 - val_loss: 0.5098 - val_accuracy: 0.7499\n",
            "Epoch 13/50\n",
            "4500/4500 [==============================] - 22s 5ms/step - loss: 0.4522 - accuracy: 0.7814 - val_loss: 0.5037 - val_accuracy: 0.7547\n",
            "Epoch 14/50\n",
            "4500/4500 [==============================] - 22s 5ms/step - loss: 0.4505 - accuracy: 0.7809 - val_loss: 0.5107 - val_accuracy: 0.7534\n",
            "Epoch 15/50\n",
            "4500/4500 [==============================] - 22s 5ms/step - loss: 0.4463 - accuracy: 0.7840 - val_loss: 0.5070 - val_accuracy: 0.7542\n",
            "Epoch 16/50\n",
            "4500/4500 [==============================] - 22s 5ms/step - loss: 0.4444 - accuracy: 0.7857 - val_loss: 0.5192 - val_accuracy: 0.7504\n",
            "Epoch 17/50\n",
            "4500/4500 [==============================] - 22s 5ms/step - loss: 0.4433 - accuracy: 0.7866 - val_loss: 0.5086 - val_accuracy: 0.7513\n",
            "Epoch 18/50\n",
            "4500/4500 [==============================] - 22s 5ms/step - loss: 0.4402 - accuracy: 0.7878 - val_loss: 0.5131 - val_accuracy: 0.7467\n",
            "Epoch 19/50\n",
            "4500/4500 [==============================] - 23s 5ms/step - loss: 0.4379 - accuracy: 0.7889 - val_loss: 0.5188 - val_accuracy: 0.7547\n",
            "Epoch 20/50\n",
            "4500/4500 [==============================] - 22s 5ms/step - loss: 0.4368 - accuracy: 0.7890 - val_loss: 0.5122 - val_accuracy: 0.7539\n",
            "Epoch 21/50\n",
            "4500/4500 [==============================] - 22s 5ms/step - loss: 0.4367 - accuracy: 0.7886 - val_loss: 0.5125 - val_accuracy: 0.7507\n",
            "Epoch 22/50\n",
            "4500/4500 [==============================] - 22s 5ms/step - loss: 0.4344 - accuracy: 0.7904 - val_loss: 0.5139 - val_accuracy: 0.7540\n",
            "Epoch 23/50\n",
            "4500/4500 [==============================] - 22s 5ms/step - loss: 0.4328 - accuracy: 0.7927 - val_loss: 0.5236 - val_accuracy: 0.7524\n",
            "Epoch 24/50\n",
            "4500/4500 [==============================] - 22s 5ms/step - loss: 0.4312 - accuracy: 0.7934 - val_loss: 0.5175 - val_accuracy: 0.7548\n",
            "Epoch 25/50\n",
            "4500/4500 [==============================] - 22s 5ms/step - loss: 0.4312 - accuracy: 0.7932 - val_loss: 0.5271 - val_accuracy: 0.7499\n",
            "Epoch 26/50\n",
            "4500/4500 [==============================] - 22s 5ms/step - loss: 0.4289 - accuracy: 0.7936 - val_loss: 0.5246 - val_accuracy: 0.7519\n",
            "Epoch 27/50\n",
            "4500/4500 [==============================] - 22s 5ms/step - loss: 0.4293 - accuracy: 0.7943 - val_loss: 0.5279 - val_accuracy: 0.7489\n",
            "Epoch 28/50\n",
            "4500/4500 [==============================] - 22s 5ms/step - loss: 0.4273 - accuracy: 0.7938 - val_loss: 0.5212 - val_accuracy: 0.7552\n",
            "Epoch 29/50\n",
            "4500/4500 [==============================] - 22s 5ms/step - loss: 0.4279 - accuracy: 0.7943 - val_loss: 0.5247 - val_accuracy: 0.7506\n",
            "Epoch 30/50\n",
            "4500/4500 [==============================] - 22s 5ms/step - loss: 0.4268 - accuracy: 0.7952 - val_loss: 0.5184 - val_accuracy: 0.7527\n",
            "Epoch 31/50\n",
            "4500/4500 [==============================] - 22s 5ms/step - loss: 0.4262 - accuracy: 0.7960 - val_loss: 0.5227 - val_accuracy: 0.7516\n",
            "Epoch 32/50\n",
            "4500/4500 [==============================] - 22s 5ms/step - loss: 0.4241 - accuracy: 0.7965 - val_loss: 0.5225 - val_accuracy: 0.7527\n",
            "Epoch 33/50\n",
            "4500/4500 [==============================] - 23s 5ms/step - loss: 0.4243 - accuracy: 0.7972 - val_loss: 0.5243 - val_accuracy: 0.7496\n",
            "Epoch 34/50\n",
            "4500/4500 [==============================] - 22s 5ms/step - loss: 0.4243 - accuracy: 0.7967 - val_loss: 0.5307 - val_accuracy: 0.7504\n",
            "Epoch 35/50\n",
            "4500/4500 [==============================] - 22s 5ms/step - loss: 0.4231 - accuracy: 0.7976 - val_loss: 0.5279 - val_accuracy: 0.7510\n",
            "Epoch 36/50\n",
            "4500/4500 [==============================] - 22s 5ms/step - loss: 0.4229 - accuracy: 0.7978 - val_loss: 0.5312 - val_accuracy: 0.7478\n",
            "Epoch 37/50\n",
            "4500/4500 [==============================] - 22s 5ms/step - loss: 0.4224 - accuracy: 0.7977 - val_loss: 0.5382 - val_accuracy: 0.7486\n",
            "Epoch 38/50\n",
            "4500/4500 [==============================] - 22s 5ms/step - loss: 0.4208 - accuracy: 0.7980 - val_loss: 0.5371 - val_accuracy: 0.7459\n",
            "Epoch 39/50\n",
            "4500/4500 [==============================] - 22s 5ms/step - loss: 0.4218 - accuracy: 0.7986 - val_loss: 0.5233 - val_accuracy: 0.7478\n",
            "Epoch 40/50\n",
            "4500/4500 [==============================] - 22s 5ms/step - loss: 0.4200 - accuracy: 0.7992 - val_loss: 0.5339 - val_accuracy: 0.7478\n",
            "Epoch 41/50\n",
            "4500/4500 [==============================] - 22s 5ms/step - loss: 0.4191 - accuracy: 0.8008 - val_loss: 0.5396 - val_accuracy: 0.7477\n",
            "Epoch 42/50\n",
            "4500/4500 [==============================] - 22s 5ms/step - loss: 0.4183 - accuracy: 0.8005 - val_loss: 0.5306 - val_accuracy: 0.7449\n",
            "Epoch 43/50\n",
            "4500/4500 [==============================] - 22s 5ms/step - loss: 0.4178 - accuracy: 0.8009 - val_loss: 0.5305 - val_accuracy: 0.7452\n",
            "Epoch 44/50\n",
            "4500/4500 [==============================] - 22s 5ms/step - loss: 0.4192 - accuracy: 0.7999 - val_loss: 0.5450 - val_accuracy: 0.7449\n",
            "Epoch 45/50\n",
            "4500/4500 [==============================] - 22s 5ms/step - loss: 0.4170 - accuracy: 0.8011 - val_loss: 0.5338 - val_accuracy: 0.7445\n",
            "Epoch 46/50\n",
            "4500/4500 [==============================] - 22s 5ms/step - loss: 0.4178 - accuracy: 0.8011 - val_loss: 0.5308 - val_accuracy: 0.7452\n",
            "Epoch 47/50\n",
            "4500/4500 [==============================] - 22s 5ms/step - loss: 0.4175 - accuracy: 0.8003 - val_loss: 0.5348 - val_accuracy: 0.7451\n",
            "Epoch 48/50\n",
            "4500/4500 [==============================] - 22s 5ms/step - loss: 0.4158 - accuracy: 0.8027 - val_loss: 0.5295 - val_accuracy: 0.7484\n",
            "Epoch 49/50\n",
            "4500/4500 [==============================] - 22s 5ms/step - loss: 0.4161 - accuracy: 0.8018 - val_loss: 0.5379 - val_accuracy: 0.7446\n",
            "Epoch 50/50\n",
            "4500/4500 [==============================] - 22s 5ms/step - loss: 0.4164 - accuracy: 0.8017 - val_loss: 0.5429 - val_accuracy: 0.7458\n",
            "Training Complete\n"
          ],
          "name": "stdout"
        }
      ]
    },
    {
      "cell_type": "code",
      "metadata": {
        "colab_type": "code",
        "id": "qxju4ItJKO8F",
        "colab": {
          "base_uri": "https://localhost:8080/",
          "height": 607
        },
        "outputId": "4391c389-e131-46aa-986d-f29a7b133e82"
      },
      "source": [
        "import matplotlib.image  as mpimg\n",
        "import matplotlib.pyplot as plt\n",
        "\n",
        "#-----------------------------------------------------------\n",
        "# Retrieve a list of list results on training and test data\n",
        "# sets for each training epoch\n",
        "#-----------------------------------------------------------\n",
        "acc=history.history['accuracy']\n",
        "val_acc=history.history['val_accuracy']\n",
        "loss=history.history['loss']\n",
        "val_loss=history.history['val_loss']\n",
        "\n",
        "epochs=range(len(acc)) # Get number of epochs\n",
        "\n",
        "#------------------------------------------------\n",
        "# Plot training and validation accuracy per epoch\n",
        "#------------------------------------------------\n",
        "plt.plot(epochs, acc, 'r')\n",
        "plt.plot(epochs, val_acc, 'b')\n",
        "plt.title('Training and validation accuracy')\n",
        "plt.xlabel(\"Epochs\")\n",
        "plt.ylabel(\"Accuracy\")\n",
        "plt.legend([\"Accuracy\", \"Validation Accuracy\"])\n",
        "\n",
        "plt.figure()\n",
        "\n",
        "#------------------------------------------------\n",
        "# Plot training and validation loss per epoch\n",
        "#------------------------------------------------\n",
        "plt.plot(epochs, loss, 'r')\n",
        "plt.plot(epochs, val_loss, 'b')\n",
        "plt.title('Training and validation loss')\n",
        "plt.xlabel(\"Epochs\")\n",
        "plt.ylabel(\"Loss\")\n",
        "plt.legend([\"Loss\", \"Validation Loss\"])\n",
        "\n",
        "plt.figure()\n",
        "\n",
        "\n",
        "# Expected Output\n",
        "# A chart where the validation loss does not increase sharply!"
      ],
      "execution_count": 24,
      "outputs": [
        {
          "output_type": "execute_result",
          "data": {
            "text/plain": [
              "<Figure size 432x288 with 0 Axes>"
            ]
          },
          "metadata": {
            "tags": []
          },
          "execution_count": 24
        },
        {
          "output_type": "display_data",
          "data": {
            "image/png": "[encoded data removed]",
            "text/plain": [
              "<Figure size 432x288 with 1 Axes>"
            ]
          },
          "metadata": {
            "tags": [],
            "needs_background": "light"
          }
        },
        {
          "output_type": "display_data",
          "data": {
            "image/png": "[encoded data removed]",
            "text/plain": [
              "<Figure size 432x288 with 1 Axes>"
            ]
          },
          "metadata": {
            "tags": [],
            "needs_background": "light"
          }
        },
        {
          "output_type": "display_data",
          "data": {
            "text/plain": [
              "<Figure size 432x288 with 0 Axes>"
            ]
          },
          "metadata": {
            "tags": []
          }
        }
      ]
    }
  ]
}